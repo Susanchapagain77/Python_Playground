{
 "cells": [
  {
   "cell_type": "markdown",
   "id": "46b3428d",
   "metadata": {},
   "source": [
    "## Remember"
   ]
  },
  {
   "cell_type": "markdown",
   "id": "7a7b9891",
   "metadata": {},
   "source": [
    "- Do not edit the function name or any other code or variables outside the predefined block for writing code\n",
    "- Write the code only inside the block replacing the pass statement. \n",
    "```\n",
    "# code starts\n",
    "    pass\n",
    "# code ends\n",
    "```\n",
    "- You may add additional comments for your convenience. But do not replace the existing lines of comments\n",
    "- All the libraries that are necessary for the assignments are already imported\n",
    "- Points will only be awarded if all the test cases are passed\n",
    "\n",
    "\n",
    "***Note: If you think certain test should pass but is constantly failing despite correct code. Try Restarting the Kernal and re-running the code. If it's still not resolved report it to the instructor with appropriate screenshot of the code and the output.***"
   ]
  },
  {
   "cell_type": "code",
   "execution_count": 1,
   "id": "4e520511",
   "metadata": {},
   "outputs": [],
   "source": [
    "from Utils.day2 import *"
   ]
  },
  {
   "cell_type": "code",
   "execution_count": 2,
   "id": "80dabf43",
   "metadata": {},
   "outputs": [],
   "source": [
    "score = {}"
   ]
  },
  {
   "cell_type": "markdown",
   "id": "652438d5",
   "metadata": {},
   "source": [
    "___"
   ]
  },
  {
   "cell_type": "markdown",
   "id": "f2047536",
   "metadata": {},
   "source": [
    "***Run the above cells before starting the assignments***"
   ]
  },
  {
   "cell_type": "markdown",
   "id": "6f8dce34",
   "metadata": {},
   "source": [
    "# Assignment Begins"
   ]
  },
  {
   "cell_type": "markdown",
   "id": "1ce89864",
   "metadata": {},
   "source": [
    "#### Q1: Write a function that takes a list value as an argument and returns a string with all the items separated by a comma and a space, with and inserted before the last item. "
   ]
  },
  {
   "cell_type": "code",
   "execution_count": 3,
   "id": "fd6c8e17",
   "metadata": {},
   "outputs": [],
   "source": [
    "def comma_code(mylist):\n",
    "    \"\"\" Concanates list elements with ,\n",
    "    The function should convert all the list element in the list to string before appending\n",
    "    \n",
    "    Args:\n",
    "        mylist: mon-empty list of elements\n",
    "\n",
    "    Returns:\n",
    "        si : string consisting of all elements of mylist separated with ,\n",
    "    \"\"\"\n",
    "    \n",
    "    # code starts\n",
    "    pass\n",
    "\n",
    "    # code ends"
   ]
  },
  {
   "cell_type": "markdown",
   "id": "69aaa449",
   "metadata": {},
   "source": [
    "Case : If ```mylist=['apples','bananas','car','dog']```, then the function should return 'apples,bananas,car,dog'"
   ]
  },
  {
   "cell_type": "code",
   "execution_count": 4,
   "id": "9ddbc1aa",
   "metadata": {},
   "outputs": [],
   "source": [
    "# Custom Test - you can test your code here by changing the argument values\n",
    "comma_code(['apples','bananas','car','dog'])"
   ]
  },
  {
   "cell_type": "code",
   "execution_count": 5,
   "id": "5b866b45",
   "metadata": {},
   "outputs": [
    {
     "name": "stdout",
     "output_type": "stream",
     "text": [
      " Test 0:\u001b[1;31m Failed \u001b[0;0m\n",
      " Test 1:\u001b[1;31m Failed \u001b[0;0m\n",
      " Test 2:\u001b[1;31m Failed \u001b[0;0m\n"
     ]
    }
   ],
   "source": [
    "# Automated Test - Do not change it\n",
    "points = test_comma_code(comma_code)\n",
    "score[\"Q1\"] = points"
   ]
  },
  {
   "cell_type": "markdown",
   "id": "36580e10",
   "metadata": {},
   "source": [
    " "
   ]
  },
  {
   "cell_type": "markdown",
   "id": "3af73c53",
   "metadata": {},
   "source": [
    "#### Q2: Write a program for performing basic list operations in sequential order as below:\n",
    "1. ```a``` -> Append element ```a``` to the list\n",
    "2. ```i,e``` -> insert element ```e``` in index ```i```\n",
    "3. Sort the list\n",
    "4. Pop the last element of the list\n",
    "5. Reverse the list\n",
    "*Consider the list elements to be integers*"
   ]
  },
  {
   "cell_type": "code",
   "execution_count": 6,
   "id": "e8202efa",
   "metadata": {},
   "outputs": [],
   "source": [
    "def list_operations(mylist,a,i,e):\n",
    "    \"\"\" perform the list operations\n",
    "\n",
    "    Args:\n",
    "        mylist: list of elements (integer only)\n",
    "        a : element to append to the list\n",
    "        i : index to which the element 'e' is to be inserted\n",
    "        e : element to be inserted to the index 'i'\n",
    "\n",
    "    Returns:\n",
    "        mylist : list after various operations\n",
    "    \"\"\"\n",
    "    \n",
    "    # code starts\n",
    "    pass\n",
    "\n",
    "    # code ends"
   ]
  },
  {
   "cell_type": "markdown",
   "id": "3d96e5a8",
   "metadata": {},
   "source": [
    "Case : If ```mylist=[5,2,7]```, ```a=12```, ```i=1```, ```e=10```, then ```output=[10,7,5,2]```\n"
   ]
  },
  {
   "cell_type": "code",
   "execution_count": 7,
   "id": "ea283c34",
   "metadata": {},
   "outputs": [],
   "source": [
    "# Custom Test - you can test your code here by changing the argument values\n",
    "list_operations([5,2,7],12,1,10)"
   ]
  },
  {
   "cell_type": "code",
   "execution_count": 8,
   "id": "95d3ff6b",
   "metadata": {},
   "outputs": [
    {
     "name": "stdout",
     "output_type": "stream",
     "text": [
      " Test 1:\u001b[1;31m Failed \u001b[0;0m\n",
      " Test 0:\u001b[1;31m Failed \u001b[0;0m\n",
      " Test 3:\u001b[1;31m Failed \u001b[0;0m\n",
      " Test 0:\u001b[1;31m Failed \u001b[0;0m\n",
      " Test 2:\u001b[1;31m Failed \u001b[0;0m\n"
     ]
    }
   ],
   "source": [
    "# Automated Test - Do not change it\n",
    "points = test_list_operations(list_operations)\n",
    "score[\"Q2\"] = points"
   ]
  },
  {
   "cell_type": "markdown",
   "id": "b838a18b",
   "metadata": {},
   "source": [
    " "
   ]
  },
  {
   "cell_type": "markdown",
   "id": "07a085b5",
   "metadata": {},
   "source": [
    "#### Q3: Write a program to find the student with lowest score (Nested list operations)\n",
    "Input list consists of list elements comprising of student name and score in format [[\"student\",score],...]\n",
    "Output should print name of student with lowest socre"
   ]
  },
  {
   "cell_type": "code",
   "execution_count": 9,
   "id": "9d5640dc",
   "metadata": {},
   "outputs": [],
   "source": [
    "def lowest_score(students):\n",
    "    \"\"\" find the student with the lowest score\n",
    "\n",
    "    Args:\n",
    "        students: list  of tuples in format [[\"student\",score],...], where score must be integer or float\n",
    "\n",
    "    Returns:\n",
    "        result: student name with lowest score\n",
    "    \"\"\"\n",
    "    # code starts\n",
    "    pass\n",
    "\n",
    "    # code ends"
   ]
  },
  {
   "cell_type": "markdown",
   "id": "7c6d716c",
   "metadata": {},
   "source": [
    "Case : If ```students=[('Harry', 37.21), ('Berry', 37.21), ('Tina', 37.2), ('Akriti', 41), ('Harsh', 39)]``` then the function should return \"Tina\"\n"
   ]
  },
  {
   "cell_type": "code",
   "execution_count": 10,
   "id": "1752164c",
   "metadata": {},
   "outputs": [],
   "source": [
    "# Custom Test - you can test your code here by changing the argument values\n",
    "lowest_score([('Harry', 37.21), ('Berry', 37.21), ('Tina', 37.2), ('Akriti', 41), ('Harsh', 39)])"
   ]
  },
  {
   "cell_type": "code",
   "execution_count": 11,
   "id": "1f602ad2",
   "metadata": {},
   "outputs": [
    {
     "name": "stdout",
     "output_type": "stream",
     "text": [
      " Test 0:\u001b[1;31m Failed \u001b[0;0m\n",
      " Test 1:\u001b[1;31m Failed \u001b[0;0m\n",
      " Test 2:\u001b[1;31m Failed \u001b[0;0m\n"
     ]
    }
   ],
   "source": [
    "# Automated Test - Do not change it\n",
    "points =  test_lowest_score(lowest_score)\n",
    "score[\"Q3\"] = points"
   ]
  },
  {
   "cell_type": "markdown",
   "id": "eb8fd06a",
   "metadata": {},
   "source": [
    " "
   ]
  },
  {
   "cell_type": "markdown",
   "id": "e6e99d67",
   "metadata": {},
   "source": [
    "#### Q4: Write a program to display average score of students (Dictionary)\n",
    "The provided input should be a dictionary containing key/value pairs of name:[marks] for a list of students. Print the average of the marks array for the student name provided, showing 2 places after the decimal."
   ]
  },
  {
   "cell_type": "code",
   "execution_count": 12,
   "id": "92c8cb01",
   "metadata": {},
   "outputs": [],
   "source": [
    "def average_score(grades):\n",
    "    \"\"\" compute average score of each student\n",
    "\n",
    "    Args:\n",
    "        grades : dictionary containing key/value pairs of name:[marks] for a list of students\n",
    "\n",
    "    Returns:\n",
    "        result: dictionary containing key/value pairs of name:average score\n",
    "\n",
    "    \"\"\"\n",
    "\n",
    "    # code starts\n",
    "    pass\n",
    "\n",
    "    # code ends"
   ]
  },
  {
   "cell_type": "markdown",
   "id": "188687c8",
   "metadata": {},
   "source": [
    "Case : If \n",
    "<pre>\n",
    "n = {\n",
    "     \"alpha\":[20,30,40],\n",
    "     \"beta\":[30,50,70]\n",
    "    }\n",
    "</pre>        \n",
    "then the function should return \n"
   ]
  },
  {
   "cell_type": "code",
   "execution_count": 13,
   "id": "7d9e9dba",
   "metadata": {},
   "outputs": [],
   "source": [
    "# Custom Test - you can test your code here by changing the argument values\n",
    "average_score({\"jack\":[45,90,50,92,53,85,75]})"
   ]
  },
  {
   "cell_type": "code",
   "execution_count": 14,
   "id": "5981e955",
   "metadata": {
    "scrolled": true
   },
   "outputs": [
    {
     "name": "stdout",
     "output_type": "stream",
     "text": [
      " Test 0:\u001b[1;31m Failed \u001b[0;0m\n",
      " Test 1:\u001b[1;31m Failed \u001b[0;0m\n",
      " Test 2:\u001b[1;31m Failed \u001b[0;0m\n"
     ]
    }
   ],
   "source": [
    "# Automated Test - Do not change it\n",
    "points =  test_average_score(average_score)\n",
    "score[\"Q4\"] = points"
   ]
  },
  {
   "cell_type": "markdown",
   "id": "4b0ffb7d",
   "metadata": {},
   "source": [
    " "
   ]
  },
  {
   "cell_type": "markdown",
   "id": "6cd817d2",
   "metadata": {},
   "source": [
    "#### Q5: Write a program to remove duplicates from tuple\n"
   ]
  },
  {
   "cell_type": "code",
   "execution_count": 15,
   "id": "d5b44f75",
   "metadata": {},
   "outputs": [],
   "source": [
    "def remove_duplicate(n):\n",
    "    \"\"\" remove the duplicate elements from tuple\n",
    "\n",
    "    Args:\n",
    "        n : given tuple\n",
    "\n",
    "    Returns:\n",
    "        result: tuple after removing duplicate elements\n",
    "\n",
    "    \"\"\"\n",
    "    \n",
    "    # code starts\n",
    "    pass\n",
    "\n",
    "    # code ends"
   ]
  },
  {
   "cell_type": "markdown",
   "id": "12052652",
   "metadata": {},
   "source": [
    "Case : If ```n = (3,8,9,3,1)``` then the function should return ```(8, 9, 3, 1)```\n"
   ]
  },
  {
   "cell_type": "code",
   "execution_count": 16,
   "id": "f4ab1390",
   "metadata": {},
   "outputs": [],
   "source": [
    "# Custom Test - you can test your code here by changing the argument values\n",
    "remove_duplicate((3,8,9,3,1))"
   ]
  },
  {
   "cell_type": "code",
   "execution_count": 17,
   "id": "3cfb7571",
   "metadata": {},
   "outputs": [
    {
     "ename": "TypeError",
     "evalue": "object of type 'NoneType' has no len()",
     "output_type": "error",
     "traceback": [
      "\u001b[0;31m---------------------------------------------------------------------------\u001b[0m",
      "\u001b[0;31mTypeError\u001b[0m                                 Traceback (most recent call last)",
      "Input \u001b[0;32mIn [17]\u001b[0m, in \u001b[0;36m<cell line: 2>\u001b[0;34m()\u001b[0m\n\u001b[1;32m      1\u001b[0m \u001b[38;5;66;03m# Automated Test - Do not change it\u001b[39;00m\n\u001b[0;32m----> 2\u001b[0m points \u001b[38;5;241m=\u001b[39m  \u001b[43mtest_remove_duplicate\u001b[49m\u001b[43m(\u001b[49m\u001b[43mremove_duplicate\u001b[49m\u001b[43m)\u001b[49m\n\u001b[1;32m      3\u001b[0m score[\u001b[38;5;124m\"\u001b[39m\u001b[38;5;124mQ5\u001b[39m\u001b[38;5;124m\"\u001b[39m] \u001b[38;5;241m=\u001b[39m points\n",
      "File \u001b[0;32m~/Documents/Teach/day2 bibek/Utils/day2.py:108\u001b[0m, in \u001b[0;36mtest_remove_duplicate\u001b[0;34m(fn)\u001b[0m\n\u001b[1;32m    106\u001b[0m \u001b[38;5;28;01mfor\u001b[39;00m tuple_in, result \u001b[38;5;129;01min\u001b[39;00m test_data\u001b[38;5;241m.\u001b[39mitems():\n\u001b[1;32m    107\u001b[0m     returned_tuple \u001b[38;5;241m=\u001b[39m fn(tuple_in)\n\u001b[0;32m--> 108\u001b[0m     \u001b[38;5;28;01mif\u001b[39;00m result \u001b[38;5;241m==\u001b[39m \u001b[38;5;28;43mlen\u001b[39;49m\u001b[43m(\u001b[49m\u001b[43mreturned_tuple\u001b[49m\u001b[43m)\u001b[49m:\n\u001b[1;32m    109\u001b[0m         \u001b[38;5;28mprint\u001b[39m(\u001b[38;5;124mf\u001b[39m\u001b[38;5;124m\"\u001b[39m\u001b[38;5;124m Test \u001b[39m\u001b[38;5;132;01m{\u001b[39;00mi\u001b[38;5;132;01m}\u001b[39;00m\u001b[38;5;124m:\u001b[39m\u001b[38;5;132;01m{\u001b[39;00mSUCCESS_COLOR\u001b[38;5;132;01m}\u001b[39;00m\u001b[38;5;124m Passed \u001b[39m\u001b[38;5;132;01m{\u001b[39;00mEND_COLOR\u001b[38;5;132;01m}\u001b[39;00m\u001b[38;5;124m\"\u001b[39m)\n\u001b[1;32m    110\u001b[0m         score \u001b[38;5;241m+\u001b[39m\u001b[38;5;241m=\u001b[39m \u001b[38;5;241m1\u001b[39m\n",
      "\u001b[0;31mTypeError\u001b[0m: object of type 'NoneType' has no len()"
     ]
    }
   ],
   "source": [
    "# Automated Test - Do not change it\n",
    "points =  test_remove_duplicate(remove_duplicate)\n",
    "score[\"Q5\"] = points"
   ]
  },
  {
   "cell_type": "markdown",
   "id": "d1dd9d08",
   "metadata": {},
   "source": [
    "## Assignment Ends"
   ]
  },
  {
   "cell_type": "markdown",
   "id": "d9da1725",
   "metadata": {},
   "source": [
    "---"
   ]
  },
  {
   "cell_type": "code",
   "execution_count": null,
   "id": "270de491",
   "metadata": {
    "scrolled": true
   },
   "outputs": [],
   "source": [
    "final_score(score)"
   ]
  },
  {
   "cell_type": "code",
   "execution_count": null,
   "id": "b36286f7",
   "metadata": {},
   "outputs": [],
   "source": [
    "!jupyter-nbconvert --to html 'Day 2 - Data Structure Assignment.ipynb' --output \"Day 2 - Data Structure Assignment.html\" \n"
   ]
  },
  {
   "cell_type": "code",
   "execution_count": null,
   "id": "2d6e2acf",
   "metadata": {},
   "outputs": [],
   "source": []
  }
 ],
 "metadata": {
  "kernelspec": {
   "display_name": "Python 3 (ipykernel)",
   "language": "python",
   "name": "python3"
  },
  "language_info": {
   "codemirror_mode": {
    "name": "ipython",
    "version": 3
   },
   "file_extension": ".py",
   "mimetype": "text/x-python",
   "name": "python",
   "nbconvert_exporter": "python",
   "pygments_lexer": "ipython3",
   "version": "3.10.4"
  }
 },
 "nbformat": 4,
 "nbformat_minor": 5
}
