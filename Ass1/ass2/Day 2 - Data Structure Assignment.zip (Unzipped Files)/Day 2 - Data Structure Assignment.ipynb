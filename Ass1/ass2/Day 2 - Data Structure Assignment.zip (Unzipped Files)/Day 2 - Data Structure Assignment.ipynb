{
 "cells": [
  {
   "cell_type": "markdown",
   "id": "02dd9b1b",
   "metadata": {},
   "source": [
    "## Remember"
   ]
  },
  {
   "cell_type": "markdown",
   "id": "a9605407",
   "metadata": {},
   "source": [
    "- Do not edit the function name or any other code or variables outside the predefined block for writing code\n",
    "- Write the code only inside the block replacing the pass statement. \n",
    "```\n",
    "# code starts\n",
    "    pass\n",
    "# code ends\n",
    "```\n",
    "- You may add additional comments for your convenience. But do not replace the existing lines of comments\n",
    "- All the libraries that are necessary for the assignments are already imported\n",
    "- Points will only be awarded if all the test cases are passed\n",
    "\n",
    "\n",
    "***Note: If you think certain test should pass but is constantly failing despite correct code. Try Restarting the Kernal and re-running the code. If it's still not resolved report it to the instructor with appropriate screenshot of the code and the output.***"
   ]
  },
  {
   "cell_type": "code",
   "execution_count": 11,
   "id": "674b8a8b",
   "metadata": {},
   "outputs": [],
   "source": [
    "from Utils.day2 import *"
   ]
  },
  {
   "cell_type": "code",
   "execution_count": 12,
   "id": "3bb9f26e",
   "metadata": {},
   "outputs": [],
   "source": [
    "score = {}"
   ]
  },
  {
   "cell_type": "markdown",
   "id": "ba164a9a",
   "metadata": {},
   "source": [
    "___"
   ]
  },
  {
   "cell_type": "markdown",
   "id": "88d6ca54",
   "metadata": {},
   "source": [
    "***Run the above cells before starting the assignments***"
   ]
  },
  {
   "cell_type": "markdown",
   "id": "e3831271",
   "metadata": {},
   "source": [
    "# Assignment Begins"
   ]
  },
  {
   "cell_type": "markdown",
   "id": "16dcb521",
   "metadata": {},
   "source": [
    "#### Q1: Write a function that takes a list value as an argument and returns a string with all the items separated by a comma and a space, with and inserted before the last item. "
   ]
  },
  {
   "cell_type": "code",
   "execution_count": 18,
   "id": "54d77757",
   "metadata": {},
   "outputs": [],
   "source": [
    "def comma_code(mylist):\n",
    "    \"\"\" Concanates list elements with ,\n",
    "    The function should convert all the list element in the list to string before appending\n",
    "    \n",
    "    Args:\n",
    "        mylist: mon-empty list of elements\n",
    "\n",
    "    Returns:\n",
    "        si : string consisting of all elements of mylist separated with ,\n",
    "    \"\"\"\n",
    "    \n",
    "    # code starts\n",
    "    res = \",\".join([str(item) for item in mylist])\n",
    "\n",
    "\n",
    "    return(res)   \n",
    "    # code ends"
   ]
  },
  {
   "cell_type": "markdown",
   "id": "8d2ead62",
   "metadata": {},
   "source": [
    "Case : If ```mylist=['apples','bananas','car','dog']```, then the function should return 'apples,bananas,car,dog'"
   ]
  },
  {
   "cell_type": "code",
   "execution_count": 19,
   "id": "93c97a77",
   "metadata": {},
   "outputs": [
    {
     "data": {
      "text/plain": [
       "'apples,bananas,car,dog'"
      ]
     },
     "execution_count": 19,
     "metadata": {},
     "output_type": "execute_result"
    }
   ],
   "source": [
    "# Custom Test - you can test your code here by changing the argument values\n",
    "comma_code(['apples','bananas','car','dog'])"
   ]
  },
  {
   "cell_type": "code",
   "execution_count": 20,
   "id": "33b22d87",
   "metadata": {},
   "outputs": [
    {
     "name": "stdout",
     "output_type": "stream",
     "text": [
      " Test 0:\u001b[1;32m Passed \u001b[0;0m\n",
      " Test 1:\u001b[1;32m Passed \u001b[0;0m\n",
      " Test 2:\u001b[1;32m Passed \u001b[0;0m\n"
     ]
    }
   ],
   "source": [
    "# Automated Test - Do not change it\n",
    "points = test_comma_code(comma_code)\n",
    "score[\"Q1\"] = points"
   ]
  },
  {
   "cell_type": "markdown",
   "id": "cbcb19bd",
   "metadata": {},
   "source": [
    " "
   ]
  },
  {
   "cell_type": "markdown",
   "id": "09c5e25e",
   "metadata": {},
   "source": [
    "#### Q2: Write a program for performing basic list operations in sequential order as below:\n",
    "1. ```a``` -> Append element ```a``` to the list\n",
    "2. ```i,e``` -> insert element ```e``` in index ```i```\n",
    "3. Sort the list\n",
    "4. Pop the last element of the list\n",
    "5. Reverse the list\n",
    "*Consider the list elements to be integers*"
   ]
  },
  {
   "cell_type": "code",
   "execution_count": 29,
   "id": "3517f715",
   "metadata": {},
   "outputs": [],
   "source": [
    "def list_operations(mylist,a,i,e):\n",
    "    \"\"\" perform the list operations\n",
    "\n",
    "    Args:\n",
    "        mylist: list of elements (integer only)\n",
    "        a : element to append to the list\n",
    "        i : index to which the element 'e' is to be inserted\n",
    "        e : element to be inserted to the index 'i'\n",
    "\n",
    "    Returns:\n",
    "        mylist : list after various operations\n",
    "    \"\"\"\n",
    "    \n",
    "    # code starts\n",
    "    mylist.append(a)\n",
    "    mylist.insert(i,e)\n",
    "    mylist.sort()\n",
    "    del mylist[-1]\n",
    "    mylist.reverse()\n",
    "\n",
    "    \n",
    "\n",
    "    return(mylist)\n",
    "\n",
    "    # code ends"
   ]
  },
  {
   "cell_type": "markdown",
   "id": "486884e2",
   "metadata": {},
   "source": [
    "Case : If ```mylist=[5,2,7]```, ```a=12```, ```i=1```, ```e=10```, then ```output=[10,7,5,2]```\n"
   ]
  },
  {
   "cell_type": "code",
   "execution_count": 30,
   "id": "9ae1debe",
   "metadata": {},
   "outputs": [
    {
     "data": {
      "text/plain": [
       "[10, 7, 5, 2]"
      ]
     },
     "execution_count": 30,
     "metadata": {},
     "output_type": "execute_result"
    }
   ],
   "source": [
    "# Custom Test - you can test your code here by changing the argument values\n",
    "list_operations([5,2,7],12,1,10)"
   ]
  },
  {
   "cell_type": "code",
   "execution_count": 31,
   "id": "d7776635",
   "metadata": {},
   "outputs": [
    {
     "name": "stdout",
     "output_type": "stream",
     "text": [
      " Test 1:\u001b[1;32m Passed \u001b[0;0m\n",
      " Test 0:\u001b[1;32m Passed \u001b[0;0m\n",
      " Test 3:\u001b[1;32m Passed \u001b[0;0m\n",
      " Test 0:\u001b[1;32m Passed \u001b[0;0m\n",
      " Test 2:\u001b[1;32m Passed \u001b[0;0m\n"
     ]
    }
   ],
   "source": [
    "# Automated Test - Do not change it\n",
    "points = test_list_operations(list_operations)\n",
    "score[\"Q2\"] = points"
   ]
  },
  {
   "cell_type": "markdown",
   "id": "a6666db8",
   "metadata": {},
   "source": [
    " "
   ]
  },
  {
   "cell_type": "markdown",
   "id": "5ddf0af6",
   "metadata": {},
   "source": [
    "#### Q3: Write a program to find the student with lowest score (Nested list operations)\n",
    "Input list consists of list elements comprising of student name and score in format [[\"student\",score],...]\n",
    "Output should print name of student with lowest socre"
   ]
  },
  {
   "cell_type": "code",
   "execution_count": 52,
   "id": "9a48b62c",
   "metadata": {},
   "outputs": [],
   "source": [
    "def lowest_score(students):\n",
    "    \"\"\" find the student with the lowest score\n",
    "\n",
    "    Args:\n",
    "        students: list  of tuples in format [[\"student\",score],...], where score must be integer or float\n",
    "\n",
    "    Returns:\n",
    "        result: student name with lowest score\n",
    "    \"\"\"\n",
    "    # code starts\n",
    "    \n",
    "    min_tuple = min(students, key=lambda tup: tup[1])\n",
    "\n",
    "    return min_tuple[0]\n",
    "    \n",
    "\n",
    "    # code ends"
   ]
  },
  {
   "cell_type": "markdown",
   "id": "1b3cd9f8",
   "metadata": {},
   "source": [
    "Case : If ```students=[('Harry', 37.21), ('Berry', 37.21), ('Tina', 37.2), ('Akriti', 41), ('Harsh', 39)]``` then the function should return \"Tina\"\n"
   ]
  },
  {
   "cell_type": "code",
   "execution_count": 53,
   "id": "3abfac4c",
   "metadata": {},
   "outputs": [
    {
     "data": {
      "text/plain": [
       "'Tina'"
      ]
     },
     "execution_count": 53,
     "metadata": {},
     "output_type": "execute_result"
    }
   ],
   "source": [
    "# Custom Test - you can test your code here by changing the argument values\n",
    "lowest_score([('Harry', 37.21), ('Berry', 37.21), ('Tina', 37.2), ('Akriti', 41), ('Harsh', 39)])"
   ]
  },
  {
   "cell_type": "code",
   "execution_count": 54,
   "id": "7f1384e5",
   "metadata": {},
   "outputs": [
    {
     "name": "stdout",
     "output_type": "stream",
     "text": [
      " Test 0:\u001b[1;32m Passed \u001b[0;0m\n",
      " Test 1:\u001b[1;32m Passed \u001b[0;0m\n",
      " Test 2:\u001b[1;32m Passed \u001b[0;0m\n"
     ]
    }
   ],
   "source": [
    "# Automated Test - Do not change it\n",
    "points =  test_lowest_score(lowest_score)\n",
    "score[\"Q3\"] = points"
   ]
  },
  {
   "cell_type": "markdown",
   "id": "e2acc5d7",
   "metadata": {},
   "source": [
    " "
   ]
  },
  {
   "cell_type": "markdown",
   "id": "13c2fe94",
   "metadata": {},
   "source": [
    "#### Q4: Write a program to display average score of students (Dictionary)\n",
    "The provided input should be a dictionary containing key/value pairs of name:[marks] for a list of students. Print the average of the marks array for the student name provided, showing 2 places after the decimal."
   ]
  },
  {
   "cell_type": "code",
   "execution_count": 187,
   "id": "3b8bfac7",
   "metadata": {},
   "outputs": [],
   "source": [
    "def average_score(grades):\n",
    "    \"\"\" compute average score of each student\n",
    "\n",
    "    Args:\n",
    "        grades : dictionary containing key/value pairs of name:[marks] for a list of students\n",
    "\n",
    "    Returns:\n",
    "        result: dictionary containing key/value pairs of name:average score\n",
    "\n",
    "    \"\"\"\n",
    "    \n",
    "    # code starts\n",
    "    output={}\n",
    "    for i,k in grades.items():\n",
    "        output[i]=sum(k)/len(k)\n",
    "    return(output)\n",
    "    \n",
    "    # code ends"
   ]
  },
  {
   "cell_type": "markdown",
   "id": "24e588d1",
   "metadata": {},
   "source": [
    "Case : If \n",
    "<pre>\n",
    "n = {\n",
    "     \"alpha\":[20,30,40],\n",
    "     \"beta\":[30,50,70]\n",
    "    }\n",
    "</pre>        \n",
    "then the function should return \n",
    "\n"
   ]
  },
  {
   "cell_type": "code",
   "execution_count": 188,
   "id": "ab771a4f",
   "metadata": {
    "scrolled": true
   },
   "outputs": [
    {
     "data": {
      "text/plain": [
       "{'jack': 70.0}"
      ]
     },
     "execution_count": 188,
     "metadata": {},
     "output_type": "execute_result"
    }
   ],
   "source": [
    "# Custom Test - you can test your code here by changing the argument values\n",
    "average_score({\"jack\":[45,90,50,92,53,85,75]})"
   ]
  },
  {
   "cell_type": "code",
   "execution_count": 189,
   "id": "5b3ecdf9",
   "metadata": {
    "scrolled": true
   },
   "outputs": [
    {
     "name": "stdout",
     "output_type": "stream",
     "text": [
      " Test 0:\u001b[1;32m Passed \u001b[0;0m\n",
      " Test 1:\u001b[1;32m Passed \u001b[0;0m\n",
      " Test 2:\u001b[1;32m Passed \u001b[0;0m\n"
     ]
    }
   ],
   "source": [
    "# Automated Test - Do not change it\n",
    "points =  test_average_score(average_score)\n",
    "score[\"Q4\"] = points"
   ]
  },
  {
   "cell_type": "markdown",
   "id": "913286bd",
   "metadata": {},
   "source": [
    " "
   ]
  },
  {
   "cell_type": "markdown",
   "id": "dae3572a",
   "metadata": {},
   "source": [
    "#### Q5: Write a program to remove duplicates from tuple\n"
   ]
  },
  {
   "cell_type": "code",
   "execution_count": 64,
   "id": "90644060",
   "metadata": {},
   "outputs": [],
   "source": [
    "def remove_duplicate(n):\n",
    "    \"\"\" remove the duplicate elements from tuple\n",
    "\n",
    "    Args:\n",
    "        n : given tuple\n",
    "\n",
    "    Returns:\n",
    "        result: tuple after removing duplicate elements\n",
    "\n",
    "    \"\"\"\n",
    "    \n",
    "    # code starts\n",
    "    res = tuple(set(n))\n",
    "    return res\n",
    "\n",
    "    # code ends"
   ]
  },
  {
   "cell_type": "markdown",
   "id": "78fc4997",
   "metadata": {},
   "source": [
    "Case : If ```n = (3,8,9,3,1)``` then the function should return ```(8, 9, 3, 1)```\n"
   ]
  },
  {
   "cell_type": "code",
   "execution_count": 65,
   "id": "e4857ecc",
   "metadata": {},
   "outputs": [
    {
     "data": {
      "text/plain": [
       "(8, 9, 3, 1)"
      ]
     },
     "execution_count": 65,
     "metadata": {},
     "output_type": "execute_result"
    }
   ],
   "source": [
    "# Custom Test - you can test your code here by changing the argument values\n",
    "remove_duplicate((3,8,9,3,1))"
   ]
  },
  {
   "cell_type": "code",
   "execution_count": 66,
   "id": "3fb33f24",
   "metadata": {},
   "outputs": [
    {
     "name": "stdout",
     "output_type": "stream",
     "text": [
      " Test 0:\u001b[1;32m Passed \u001b[0;0m\n",
      " Test 1:\u001b[1;32m Passed \u001b[0;0m\n",
      " Test 2:\u001b[1;32m Passed \u001b[0;0m\n",
      " Test 3:\u001b[1;32m Passed \u001b[0;0m\n",
      " Test 4:\u001b[1;32m Passed \u001b[0;0m\n",
      " Test 5:\u001b[1;32m Passed \u001b[0;0m\n"
     ]
    }
   ],
   "source": [
    "# Automated Test - Do not change it\n",
    "points =  test_remove_duplicate(remove_duplicate)\n",
    "score[\"Q5\"] = points"
   ]
  },
  {
   "cell_type": "markdown",
   "id": "6b77fc40",
   "metadata": {},
   "source": [
    "## Assignment Ends"
   ]
  },
  {
   "cell_type": "markdown",
   "id": "6359e421",
   "metadata": {},
   "source": [
    "---"
   ]
  },
  {
   "cell_type": "code",
   "execution_count": 190,
   "id": "54793064",
   "metadata": {
    "scrolled": true
   },
   "outputs": [
    {
     "name": "stdout",
     "output_type": "stream",
     "text": [
      "Total Score: \u001b[1;34m5\u001b[0;0m\n",
      "Obtained Socre: \u001b[1;32m 5 \u001b[0;0m\n"
     ]
    }
   ],
   "source": [
    "final_score(score)"
   ]
  },
  {
   "cell_type": "code",
   "execution_count": 191,
   "id": "fa7af167",
   "metadata": {},
   "outputs": [
    {
     "name": "stdout",
     "output_type": "stream",
     "text": [
      "[NbConvertApp] Converting notebook Day 2 - Data Structure Assignment.ipynb to html\n",
      "[NbConvertApp] Writing 597759 bytes to Day 2 - Data Structure Assignment.html\n"
     ]
    }
   ],
   "source": [
    "!jupyter-nbconvert --to html 'Day 2 - Data Structure Assignment.ipynb' --output \"Day 2 - Data Structure Assignment.html\" \n"
   ]
  },
  {
   "cell_type": "code",
   "execution_count": null,
   "id": "cc9019ed",
   "metadata": {},
   "outputs": [],
   "source": []
  }
 ],
 "metadata": {
  "kernelspec": {
   "display_name": "Python 3 (ipykernel)",
   "language": "python",
   "name": "python3"
  },
  "language_info": {
   "codemirror_mode": {
    "name": "ipython",
    "version": 3
   },
   "file_extension": ".py",
   "mimetype": "text/x-python",
   "name": "python",
   "nbconvert_exporter": "python",
   "pygments_lexer": "ipython3",
   "version": "3.9.7"
  }
 },
 "nbformat": 4,
 "nbformat_minor": 5
}
