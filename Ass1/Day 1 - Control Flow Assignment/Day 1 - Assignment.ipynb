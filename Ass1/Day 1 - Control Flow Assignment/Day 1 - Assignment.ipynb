{
 "cells": [
  {
   "cell_type": "markdown",
   "id": "bc70deb3",
   "metadata": {},
   "source": [
    "## Remember"
   ]
  },
  {
   "cell_type": "markdown",
   "id": "f61cd91c",
   "metadata": {},
   "source": [
    "- Do not edit the function name or any other code or variables outside the predefined block for writing code\n",
    "- Write the code only inside the block replacing the pass statement. \n",
    "```\n",
    "# code starts\n",
    "    pass\n",
    "# code ends\n",
    "```\n",
    "- You may add additional comments for your convenience. But do not replace the existing lines of comments\n",
    "- All the libraries that are necessary for the assignments are already imported\n",
    "- Points will only be awarded if all the test cases are passed\n",
    "\n",
    "\n",
    "***Note: If you think certain test should pass but is constantly failing despite correct code. Try Restarting the Kernal and re-running the code. If it's still not resolved report it to the instructor with appropriate screenshot of the code and the output.***"
   ]
  },
  {
   "cell_type": "code",
   "execution_count": 1,
   "id": "ff707860",
   "metadata": {},
   "outputs": [],
   "source": [
    "from Utils.utils import *"
   ]
  },
  {
   "cell_type": "code",
   "execution_count": 2,
   "id": "08785b14",
   "metadata": {},
   "outputs": [],
   "source": [
    "score = {}\n"
   ]
  },
  {
   "cell_type": "markdown",
   "id": "373bfb29",
   "metadata": {},
   "source": [
    "\n",
    "___"
   ]
  },
  {
   "cell_type": "markdown",
   "id": "0d01f292",
   "metadata": {},
   "source": [
    "***Run the above cells before starting the assignments***"
   ]
  },
  {
   "cell_type": "markdown",
   "id": "91ac2562",
   "metadata": {},
   "source": [
    "# Assignment Begins"
   ]
  },
  {
   "cell_type": "markdown",
   "id": "863c4892",
   "metadata": {},
   "source": [
    "#### Q1: Write a program to calculate Simple Interest (SI)\n",
    "\n",
    ">Formula:  $ SI = \\frac{P*T*R}{100} $"
   ]
  },
  {
   "cell_type": "code",
   "execution_count": 3,
   "id": "e4e68c99",
   "metadata": {},
   "outputs": [],
   "source": [
    "def simple_interest(p, t, r):\n",
    "    \"\"\" calculates simple interest\n",
    "    Args:\n",
    "        p : principle amount in Rs\n",
    "        t : time in year\n",
    "        r : rate in %\n",
    "\n",
    "    Returns:\n",
    "\n",
    "        si : simple interest in Rs\n",
    "    \"\"\"\n",
    "    \n",
    "    # code starts\n",
    "    \n",
    "    si=(p*t*r)/100\n",
    "    return si\n",
    "\n",
    "    # code ends"
   ]
  },
  {
   "cell_type": "markdown",
   "id": "48565194",
   "metadata": {},
   "source": [
    "*Case : If P = 100, T = 2 and R = 2 then the function should return 4*\n"
   ]
  },
  {
   "cell_type": "code",
   "execution_count": 4,
   "id": "6641e402",
   "metadata": {},
   "outputs": [
    {
     "data": {
      "text/plain": [
       "4.0"
      ]
     },
     "execution_count": 4,
     "metadata": {},
     "output_type": "execute_result"
    }
   ],
   "source": [
    "# Custom Test - you can test your code here by changing the argument values\n",
    "simple_interest(100,2,2)"
   ]
  },
  {
   "cell_type": "code",
   "execution_count": 5,
   "id": "c0a7c100",
   "metadata": {
    "scrolled": true
   },
   "outputs": [
    {
     "name": "stdout",
     "output_type": "stream",
     "text": [
      " Test 0:\u001b[1;32m Passed \u001b[0;0m\n",
      " Test 1:\u001b[1;32m Passed \u001b[0;0m\n",
      " Test 2:\u001b[1;32m Passed \u001b[0;0m\n",
      " Test 3:\u001b[1;32m Passed \u001b[0;0m\n",
      " Test 4:\u001b[1;32m Passed \u001b[0;0m\n"
     ]
    }
   ],
   "source": [
    "# Automated Test - Do not change it\n",
    "points = test_simple_interest(simple_interest)\n",
    "score[\"Q1\"] = points"
   ]
  },
  {
   "cell_type": "markdown",
   "id": "54f79ebc",
   "metadata": {},
   "source": [
    " "
   ]
  },
  {
   "cell_type": "markdown",
   "id": "3eac0c00",
   "metadata": {},
   "source": [
    "#### Q2: Write a program for finding smallest among three no. using if-else(nested) statement \n"
   ]
  },
  {
   "cell_type": "code",
   "execution_count": 6,
   "id": "32d584ec",
   "metadata": {},
   "outputs": [],
   "source": [
    "def smallest_number(a, b, c):\n",
    "    \"\"\" find the smallest number among given 3 numbers\n",
    "\n",
    "    Args:\n",
    "        a : first number\n",
    "        b : second number\n",
    "        c : third number\n",
    "\n",
    "    Returns:\n",
    "        smallest : smallest number\n",
    "    \"\"\"\n",
    "    \n",
    "    # code starts\n",
    "    if a<b:\n",
    "        if a<c:\n",
    "            return a\n",
    "        else:\n",
    "            return c\n",
    "    else:\n",
    "        if b<c:\n",
    "            return b\n",
    "        else:\n",
    "            return c\n",
    "\n",
    "    # code ends"
   ]
  },
  {
   "cell_type": "markdown",
   "id": "5be3face",
   "metadata": {},
   "source": [
    "*Case : If a = 10, b = 1 and c = 2 then the function should return 1*\n"
   ]
  },
  {
   "cell_type": "code",
   "execution_count": 7,
   "id": "57a12bbf",
   "metadata": {},
   "outputs": [
    {
     "data": {
      "text/plain": [
       "1"
      ]
     },
     "execution_count": 7,
     "metadata": {},
     "output_type": "execute_result"
    }
   ],
   "source": [
    "# Custom Test - you can test your code here by changing the argument values\n",
    "smallest_number(10,1,2)\n"
   ]
  },
  {
   "cell_type": "code",
   "execution_count": 8,
   "id": "40181e1e",
   "metadata": {},
   "outputs": [
    {
     "name": "stdout",
     "output_type": "stream",
     "text": [
      " Test 0:\u001b[1;32m Passed \u001b[0;0m\n",
      " Test 1:\u001b[1;32m Passed \u001b[0;0m\n",
      " Test 2:\u001b[1;32m Passed \u001b[0;0m\n",
      " Test 3:\u001b[1;32m Passed \u001b[0;0m\n",
      " Test 4:\u001b[1;32m Passed \u001b[0;0m\n",
      " Test 5:\u001b[1;32m Passed \u001b[0;0m\n"
     ]
    }
   ],
   "source": [
    "# Automated Test - Do not change it\n",
    "points = test_smallest_number(smallest_number)\n",
    "score[\"Q2\"] = points"
   ]
  },
  {
   "cell_type": "markdown",
   "id": "484a0874",
   "metadata": {},
   "source": [
    " "
   ]
  },
  {
   "cell_type": "markdown",
   "id": "1b2b783e",
   "metadata": {},
   "source": [
    "#### Q3: Write a program to perform simple mathematical operation using match statement \n"
   ]
  },
  {
   "cell_type": "code",
   "execution_count": 9,
   "id": "d64f3894",
   "metadata": {},
   "outputs": [],
   "source": [
    "def math_operation(a, b, operator):\n",
    "    \"\"\" performs a mathematical operation for the given 2 numbers based on the operator\n",
    "\n",
    "    Args:\n",
    "        a : first number\n",
    "        b : second number\n",
    "        operator : mathematical sign for operation (+,-,*,/) only \n",
    "\n",
    "    Returns:\n",
    "        result: if b == 0 return \"Divide by zero\" in case of division operation,\n",
    "                if invalid operator return \"invalid operator\"\n",
    "                else return the result of the operation\n",
    "    \"\"\"\n",
    "    \n",
    "    # code starts\n",
    "    result=1\n",
    "    if operator=='+':\n",
    "        result=(a+b)\n",
    "    elif operator=='-':\n",
    "        result=(a-b)\n",
    "    elif operator=='/':\n",
    "        if(b!=0):\n",
    "            result=(a/b)\n",
    "        else:\n",
    "            result=(\"Divide by zero\")\n",
    "    elif operator=='*':\n",
    "        result=(a*b)\n",
    "    else:\n",
    "        result=(\"invalid operator\")\n",
    "    return result\n",
    "\n",
    "\n",
    "    # code ends"
   ]
  },
  {
   "cell_type": "markdown",
   "id": "74819d40",
   "metadata": {},
   "source": [
    "*Case : If a = 1, b = 7 and operator = \"-\" then the function should return -6*\n"
   ]
  },
  {
   "cell_type": "code",
   "execution_count": 10,
   "id": "0e2dc8c0",
   "metadata": {},
   "outputs": [
    {
     "data": {
      "text/plain": [
       "-6"
      ]
     },
     "execution_count": 10,
     "metadata": {},
     "output_type": "execute_result"
    }
   ],
   "source": [
    "# Custom Test - you can test your code here by changing the argument values\n",
    "math_operation(1, 7, \"-\")"
   ]
  },
  {
   "cell_type": "code",
   "execution_count": 11,
   "id": "dc1c3c0f",
   "metadata": {},
   "outputs": [
    {
     "name": "stdout",
     "output_type": "stream",
     "text": [
      " Test 0:\u001b[1;32m Passed \u001b[0;0m\n",
      " Test 1:\u001b[1;32m Passed \u001b[0;0m\n",
      " Test 2:\u001b[1;32m Passed \u001b[0;0m\n",
      " Test 3:\u001b[1;32m Passed \u001b[0;0m\n",
      " Test 4:\u001b[1;32m Passed \u001b[0;0m\n",
      " Test 5:\u001b[1;32m Passed \u001b[0;0m\n",
      " Test 6:\u001b[1;32m Passed \u001b[0;0m\n",
      " Test 7:\u001b[1;32m Passed \u001b[0;0m\n"
     ]
    }
   ],
   "source": [
    "# Automated Test - Do not change it\n",
    "points =  test_math_operation(math_operation)\n",
    "score[\"Q3\"] = points"
   ]
  },
  {
   "cell_type": "markdown",
   "id": "f0ad2764",
   "metadata": {},
   "source": [
    " "
   ]
  },
  {
   "cell_type": "markdown",
   "id": "701aeca4",
   "metadata": {},
   "source": [
    "#### Q4: Write a program to display factorial of  a number using for loop\n"
   ]
  },
  {
   "cell_type": "code",
   "execution_count": 12,
   "id": "4e02e24b",
   "metadata": {},
   "outputs": [],
   "source": [
    "def factorial(n):\n",
    "    \"\"\" compute factorial of given number n\n",
    "\n",
    "    Args:\n",
    "        n : given number\n",
    "\n",
    "    Returns:\n",
    "        fact: factorial of number n or  return \"number too large\" for any number larger than 25 \n",
    "\n",
    "    \"\"\"\n",
    "    result=1\n",
    "    if n>25:\n",
    "        return \"number too large\"\n",
    "    else:\n",
    "        for i in range(1, n+1):\n",
    "            result *= i\n",
    "        return result\n",
    "\n",
    "\n",
    "    # code ends"
   ]
  },
  {
   "cell_type": "markdown",
   "id": "cf221c70",
   "metadata": {},
   "source": [
    "*Case : If n = 5 then the function should return 120*\n"
   ]
  },
  {
   "cell_type": "code",
   "execution_count": 13,
   "id": "51a45117",
   "metadata": {},
   "outputs": [
    {
     "data": {
      "text/plain": [
       "'number too large'"
      ]
     },
     "execution_count": 13,
     "metadata": {},
     "output_type": "execute_result"
    }
   ],
   "source": [
    "# Custom Test - you can test your code here by changing the argument values\n",
    "factorial(26)"
   ]
  },
  {
   "cell_type": "code",
   "execution_count": 14,
   "id": "f8cafaf9",
   "metadata": {
    "scrolled": true
   },
   "outputs": [
    {
     "name": "stdout",
     "output_type": "stream",
     "text": [
      " Test 0:\u001b[1;32m Passed \u001b[0;0m\n",
      " Test 1:\u001b[1;32m Passed \u001b[0;0m\n",
      " Test 2:\u001b[1;32m Passed \u001b[0;0m\n",
      " Test 3:\u001b[1;32m Passed \u001b[0;0m\n",
      " Test 4:\u001b[1;32m Passed \u001b[0;0m\n",
      " Test 5:\u001b[1;32m Passed \u001b[0;0m\n",
      " Test 6:\u001b[1;32m Passed \u001b[0;0m\n"
     ]
    }
   ],
   "source": [
    "# Automated Test - Do not change it\n",
    "points =  test_factorial(factorial)\n",
    "score[\"Q4\"] = points"
   ]
  },
  {
   "cell_type": "markdown",
   "id": "60bc8eb1",
   "metadata": {},
   "source": [
    " "
   ]
  },
  {
   "cell_type": "markdown",
   "id": "380c0e09",
   "metadata": {},
   "source": [
    "#### Q5: Write a program to find  a nth number in the fibonacci sequence\n"
   ]
  },
  {
   "cell_type": "code",
   "execution_count": 15,
   "id": "69aaf0e7",
   "metadata": {},
   "outputs": [],
   "source": [
    "def fibonacci(n):\n",
    "    \"\"\" find a nth number in the fibonacci sequence\n",
    "\n",
    "    Args:\n",
    "        n : given number\n",
    "\n",
    "    Returns:\n",
    "        fibo: nth number in a fibonacci sequence\n",
    "\n",
    "    \"\"\"\n",
    "    \n",
    "    # code starts\n",
    "    \n",
    "    if n == 0:\n",
    "        return 0\n",
    "    elif n ==1:\n",
    "        return 1\n",
    "    else:\n",
    "        return fibonacci(n-1) + fibonacci(n-2)\n",
    "\n",
    "\n",
    "    # code ends"
   ]
  },
  {
   "cell_type": "markdown",
   "id": "7966bd50",
   "metadata": {},
   "source": [
    "*Case : If n = 6 then the function should return 8*\n"
   ]
  },
  {
   "cell_type": "code",
   "execution_count": 16,
   "id": "e311dd2b",
   "metadata": {},
   "outputs": [
    {
     "data": {
      "text/plain": [
       "8"
      ]
     },
     "execution_count": 16,
     "metadata": {},
     "output_type": "execute_result"
    }
   ],
   "source": [
    "# Custom Test - you can test your code here by changing the argument values\n",
    "fibonacci(6)"
   ]
  },
  {
   "cell_type": "code",
   "execution_count": 17,
   "id": "9de0e458",
   "metadata": {},
   "outputs": [
    {
     "name": "stdout",
     "output_type": "stream",
     "text": [
      " Test 0:\u001b[1;32m Passed \u001b[0;0m\n",
      " Test 1:\u001b[1;32m Passed \u001b[0;0m\n",
      " Test 2:\u001b[1;32m Passed \u001b[0;0m\n",
      " Test 3:\u001b[1;32m Passed \u001b[0;0m\n",
      " Test 4:\u001b[1;32m Passed \u001b[0;0m\n",
      " Test 5:\u001b[1;32m Passed \u001b[0;0m\n",
      " Test 6:\u001b[1;32m Passed \u001b[0;0m\n",
      " Test 7:\u001b[1;32m Passed \u001b[0;0m\n",
      " Test 8:\u001b[1;32m Passed \u001b[0;0m\n",
      " Test 9:\u001b[1;32m Passed \u001b[0;0m\n"
     ]
    }
   ],
   "source": [
    "# Automated Test - Do not change it\n",
    "points =  test_fibonacci(fibonacci)\n",
    "score[\"Q5\"] = points"
   ]
  },
  {
   "cell_type": "markdown",
   "id": "6fbcc90f",
   "metadata": {},
   "source": [
    "## Assignment Ends"
   ]
  },
  {
   "cell_type": "markdown",
   "id": "85d74bae",
   "metadata": {},
   "source": [
    "---"
   ]
  },
  {
   "cell_type": "code",
   "execution_count": 18,
   "id": "272ac985",
   "metadata": {
    "scrolled": true
   },
   "outputs": [
    {
     "name": "stdout",
     "output_type": "stream",
     "text": [
      "Total Score: \u001b[1;34m5\u001b[0;0m\n",
      "Obtained Socre: \u001b[1;32m 5 \u001b[0;0m\n"
     ]
    }
   ],
   "source": [
    "final_score(score)\n"
   ]
  },
  {
   "cell_type": "code",
   "execution_count": 19,
   "id": "9a62e370",
   "metadata": {},
   "outputs": [
    {
     "name": "stdout",
     "output_type": "stream",
     "text": [
      "[NbConvertApp] Converting notebook Day 1 - Assignment.ipynb to html\n",
      "[NbConvertApp] Writing 593196 bytes to Day 1 - Assignment.html\n"
     ]
    }
   ],
   "source": [
    "!jupyter-nbconvert --to html 'Day 1 - Assignment.ipynb' --output \"Day 1 - Assignment.html\" "
   ]
  },
  {
   "cell_type": "code",
   "execution_count": null,
   "id": "70b9bd0f",
   "metadata": {},
   "outputs": [],
   "source": []
  },
  {
   "cell_type": "code",
   "execution_count": null,
   "id": "a3b7f827",
   "metadata": {},
   "outputs": [],
   "source": []
  },
  {
   "cell_type": "code",
   "execution_count": null,
   "id": "a5ed2d15",
   "metadata": {},
   "outputs": [],
   "source": []
  }
 ],
 "metadata": {
  "kernelspec": {
   "display_name": "Python 3 (ipykernel)",
   "language": "python",
   "name": "python3"
  },
  "language_info": {
   "codemirror_mode": {
    "name": "ipython",
    "version": 3
   },
   "file_extension": ".py",
   "mimetype": "text/x-python",
   "name": "python",
   "nbconvert_exporter": "python",
   "pygments_lexer": "ipython3",
   "version": "3.9.7"
  }
 },
 "nbformat": 4,
 "nbformat_minor": 5
}
