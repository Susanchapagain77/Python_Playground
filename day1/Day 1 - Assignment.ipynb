{
 "cells": [
  {
   "cell_type": "markdown",
   "metadata": {},
   "source": [
    "## Remember"
   ]
  },
  {
   "cell_type": "markdown",
   "metadata": {},
   "source": [
    "- Do not edit the function name or any other code or variables outside the predefined block for writing code\n",
    "- Write the code only inside the block replacing the pass statement. \n",
    "```\n",
    "# code starts\n",
    "    pass\n",
    "# code ends\n",
    "```\n",
    "- You may add additional comments for your convenience. But do not replace the existing lines of comments\n",
    "- All the libraries that are necessary for the assignments are already imported\n",
    "- Points will only be awarded if all the test cases are passed\n",
    "\n",
    "\n",
    "***Note: If you think certain test should pass but is constantly failing despite correct code. Try Restarting the Kernal and re-running the code. If it's still not resolved report it to the instructor with appropriate screenshot of the code and the output.***"
   ]
  },
  {
   "cell_type": "code",
   "execution_count": 2,
   "id": "54abca78",
   "metadata": {},
   "outputs": [
    {
     "ename": "ModuleNotFoundError",
     "evalue": "No module named 'Utils'",
     "output_type": "error",
     "traceback": [
      "\u001b[0;31m---------------------------------------------------------------------------\u001b[0m",
      "\u001b[0;31mModuleNotFoundError\u001b[0m                       Traceback (most recent call last)",
      "\u001b[0;32m<ipython-input-2-9c21a6a7378b>\u001b[0m in \u001b[0;36m<module>\u001b[0;34m()\u001b[0m\n\u001b[0;32m----> 1\u001b[0;31m \u001b[0;32mfrom\u001b[0m \u001b[0mUtils\u001b[0m\u001b[0;34m.\u001b[0m\u001b[0mutils\u001b[0m \u001b[0;32mimport\u001b[0m \u001b[0;34m*\u001b[0m\u001b[0;34m\u001b[0m\u001b[0m\n\u001b[0m",
      "\u001b[0;31mModuleNotFoundError\u001b[0m: No module named 'Utils'"
     ]
    }
   ],
   "source": [
    "from Utils.utils import *"
   ]
  },
  {
   "cell_type": "code",
   "execution_count": 3,
   "metadata": {},
   "outputs": [],
   "source": [
    "score = {}"
   ]
  },
  {
   "cell_type": "markdown",
   "metadata": {},
   "source": [
    "___"
   ]
  },
  {
   "cell_type": "markdown",
   "metadata": {},
   "source": [
    "***Run the above cells before starting the assignments***"
   ]
  },
  {
   "cell_type": "markdown",
   "metadata": {},
   "source": [
    "# Assignment Begins"
   ]
  },
  {
   "cell_type": "markdown",
   "metadata": {},
   "source": [
    "#### Q1: Write a program to calculate Simple Interest (SI)\n",
    "\n",
    ">Formula:  $ SI = \\frac{P*T*R}{100} $"
   ]
  },
  {
   "cell_type": "code",
   "execution_count": 1,
   "metadata": {},
   "outputs": [],
   "source": [
    "def simple_interest(p, t, r):\n",
    "    \"\"\" calculates simple interest\n",
    "    Args:\n",
    "        p : principle amount in Rs\n",
    "        t : time in year\n",
    "        r : rate in %\n",
    "\n",
    "    Returns:\n",
    "        si : simple interest in Rs\n",
    "    \"\"\"\n",
    "    si=((p*t*r)/100)\n",
    "    # code starts\n",
    "    return (si)\n",
    "     \n",
    "\n",
    "    # code ends"
   ]
  },
  {
   "cell_type": "markdown",
   "metadata": {},
   "source": [
    "*Case : If P = 100, T = 2 and R = 2 then the function should return 4*\n"
   ]
  },
  {
   "cell_type": "code",
   "execution_count": 6,
   "metadata": {},
   "outputs": [
    {
     "data": {
      "text/plain": [
       "4.0"
      ]
     },
     "execution_count": 6,
     "metadata": {},
     "output_type": "execute_result"
    }
   ],
   "source": [
    "# Custom Test - you can test your code here by changing the argument values\n",
    "simple_interest(100,2,2)"
   ]
  },
  {
   "cell_type": "code",
   "execution_count": 12,
   "metadata": {
    "scrolled": true
   },
   "outputs": [
    {
     "ename": "NameError",
     "evalue": "name 'test_simple_interest' is not defined",
     "output_type": "error",
     "traceback": [
      "\u001b[0;31m---------------------------------------------------------------------------\u001b[0m",
      "\u001b[0;31mNameError\u001b[0m                                 Traceback (most recent call last)",
      "\u001b[0;32m<ipython-input-12-41581914ef37>\u001b[0m in \u001b[0;36m<module>\u001b[0;34m()\u001b[0m\n\u001b[1;32m      1\u001b[0m \u001b[0;31m# Automated Test - Do not change it\u001b[0m\u001b[0;34m\u001b[0m\u001b[0;34m\u001b[0m\u001b[0m\n\u001b[0;32m----> 2\u001b[0;31m \u001b[0mpoints\u001b[0m \u001b[0;34m=\u001b[0m \u001b[0mtest_simple_interest\u001b[0m\u001b[0;34m(\u001b[0m\u001b[0msimple_interest\u001b[0m\u001b[0;34m)\u001b[0m\u001b[0;34m\u001b[0m\u001b[0m\n\u001b[0m\u001b[1;32m      3\u001b[0m \u001b[0mscore\u001b[0m\u001b[0;34m[\u001b[0m\u001b[0;34m\"Q1\"\u001b[0m\u001b[0;34m]\u001b[0m \u001b[0;34m=\u001b[0m \u001b[0mpoints\u001b[0m\u001b[0;34m\u001b[0m\u001b[0m\n",
      "\u001b[0;31mNameError\u001b[0m: name 'test_simple_interest' is not defined"
     ]
    }
   ],
   "source": [
    "# Automated Test - Do not change it\n",
    "points = test_simple_interest(simple_interest)\n",
    "score[\"Q1\"] = points"
   ]
  },
  {
   "cell_type": "markdown",
   "metadata": {},
   "source": [
    " "
   ]
  },
  {
   "cell_type": "markdown",
   "metadata": {},
   "source": [
    "#### Q2: Write a program for finding smallest among three no. using if-else(nested) statement \n"
   ]
  },
  {
   "cell_type": "code",
   "execution_count": 5,
   "metadata": {},
   "outputs": [],
   "source": [
    "def smallest_number(a, b, c):\n",
    "    \"\"\" find the smallest number among given 3 numbers\n",
    "\n",
    "    Args:\n",
    "        a : first number\n",
    "        b : second number\n",
    "        c : third number\n",
    "\n",
    "    Returns:\n",
    "        smallest : smallest number\n",
    "    \"\"\"\n",
    "    \n",
    "    # code starts\n",
    "    \n",
    "    if a<b and b<c:\n",
    "        if a<c:\n",
    "            return a\n",
    "        if c<b:\n",
    "            return c\n",
    "    else:\n",
    "        return b\n",
    "\n",
    "    # code ends"
   ]
  },
  {
   "cell_type": "markdown",
   "metadata": {},
   "source": [
    "*Case : If a = 10, b = 1 and c = 2 then the function should return 1*\n"
   ]
  },
  {
   "cell_type": "code",
   "execution_count": 6,
   "metadata": {},
   "outputs": [
    {
     "data": {
      "text/plain": [
       "1"
      ]
     },
     "execution_count": 6,
     "metadata": {},
     "output_type": "execute_result"
    }
   ],
   "source": [
    "# Custom Test - you can test your code here by changing the argument values\n",
    "smallest_number(10,1,2)"
   ]
  },
  {
   "cell_type": "code",
   "execution_count": 8,
   "metadata": {},
   "outputs": [
    {
     "name": "stdout",
     "output_type": "stream",
     "text": [
      " Test 0:\u001b[1;31m Failed \u001b[0;0m\n",
      " Test 1:\u001b[1;31m Failed \u001b[0;0m\n",
      " Test 2:\u001b[1;31m Failed \u001b[0;0m\n",
      " Test 3:\u001b[1;31m Failed \u001b[0;0m\n",
      " Test 4:\u001b[1;31m Failed \u001b[0;0m\n",
      " Test 5:\u001b[1;31m Failed \u001b[0;0m\n"
     ]
    }
   ],
   "source": [
    "# Automated Test - Do not change it\n",
    "points = test_smallest_number(smallest_number)\n",
    "score[\"Q2\"] = points"
   ]
  },
  {
   "cell_type": "markdown",
   "metadata": {},
   "source": [
    " "
   ]
  },
  {
   "cell_type": "markdown",
   "metadata": {},
   "source": [
    "#### Q3: Write a program to perform simple mathematical operation using match statement \n"
   ]
  },
  {
   "cell_type": "code",
   "execution_count": 33,
   "metadata": {},
   "outputs": [
    {
     "ename": "SyntaxError",
     "evalue": "invalid syntax (<ipython-input-33-9c6e76418a42>, line 16)",
     "output_type": "error",
     "traceback": [
      "\u001b[0;36m  File \u001b[0;32m\"<ipython-input-33-9c6e76418a42>\"\u001b[0;36m, line \u001b[0;32m16\u001b[0m\n\u001b[0;31m    match operator:\u001b[0m\n\u001b[0m                 ^\u001b[0m\n\u001b[0;31mSyntaxError\u001b[0m\u001b[0;31m:\u001b[0m invalid syntax\n"
     ]
    }
   ],
   "source": [
    "def math_operation(a, b, operator):\n",
    "    \"\"\" performs a mathematical operation for the given 2 numbers based on the operator\n",
    "\n",
    "    Args:\n",
    "        a : first number\n",
    "        b : second number\n",
    "        operator : mathematical sign for operation (+,-,*,/) only \n",
    "\n",
    "    Returns:\n",
    "        result: if b == 0 return \"Divide by zero\" in case of division operation,\n",
    "                if invalid operator return \"invalid operator\"\n",
    "                else return the result of the operation\n",
    "    \"\"\"\n",
    "    # code starts\n",
    "    \n",
    "    match operator:\n",
    "        case '+':\n",
    "            return(a+b)\n",
    "        case'-':\n",
    "            return(a-b)\n",
    "        case'/':\n",
    "            if (b==0):\n",
    "                return(\"Divide by zero\")\n",
    "            else:\n",
    "                return\n",
    "                \n",
    "\n",
    "    # code ends"
   ]
  },
  {
   "cell_type": "markdown",
   "metadata": {},
   "source": [
    "*Case : If a = 1, b = 7 and operator = \"-\" then the function should return -6*\n"
   ]
  },
  {
   "cell_type": "code",
   "execution_count": 10,
   "metadata": {},
   "outputs": [],
   "source": [
    "# Custom Test - you can test your code here by changing the argument values\n",
    "math_operation(1, 7, \"-\")"
   ]
  },
  {
   "cell_type": "code",
   "execution_count": 11,
   "metadata": {},
   "outputs": [
    {
     "name": "stdout",
     "output_type": "stream",
     "text": [
      " Test 0:\u001b[1;31m Failed \u001b[0;0m\n",
      " Test 1:\u001b[1;31m Failed \u001b[0;0m\n",
      " Test 2:\u001b[1;31m Failed \u001b[0;0m\n",
      " Test 3:\u001b[1;31m Failed \u001b[0;0m\n",
      " Test 4:\u001b[1;31m Failed \u001b[0;0m\n",
      " Test 5:\u001b[1;31m Failed \u001b[0;0m\n",
      " Test 6:\u001b[1;31m Failed \u001b[0;0m\n",
      " Test 7:\u001b[1;31m Failed \u001b[0;0m\n"
     ]
    }
   ],
   "source": [
    "# Automated Test - Do not change it\n",
    "points =  test_math_operation(math_operation)\n",
    "score[\"Q3\"] = points"
   ]
  },
  {
   "cell_type": "markdown",
   "metadata": {},
   "source": [
    " "
   ]
  },
  {
   "cell_type": "markdown",
   "metadata": {},
   "source": [
    "#### Q4: Write a program to display factorial of  a number using for loop\n"
   ]
  },
  {
   "cell_type": "code",
   "execution_count": 12,
   "metadata": {},
   "outputs": [],
   "source": [
    "def factorial(n):\n",
    "    \"\"\" compute factorial of given number n\n",
    "\n",
    "    Args:\n",
    "        n : given number\n",
    "\n",
    "    Returns:\n",
    "        fact: factorial of number n or  return \"number too large\" for any number larger than 25 \n",
    "\n",
    "    \"\"\"\n",
    "\n",
    "    # code starts\n",
    "    \n",
    "    pass\n",
    "\n",
    "    # code ends"
   ]
  },
  {
   "cell_type": "markdown",
   "metadata": {},
   "source": [
    "*Case : If n = 5 then the function should return 120*\n"
   ]
  },
  {
   "cell_type": "code",
   "execution_count": 13,
   "metadata": {},
   "outputs": [],
   "source": [
    "# Custom Test - you can test your code here by changing the argument values\n",
    "factorial(26)"
   ]
  },
  {
   "cell_type": "code",
   "execution_count": 14,
   "metadata": {
    "scrolled": true
   },
   "outputs": [
    {
     "name": "stdout",
     "output_type": "stream",
     "text": [
      " Test 0:\u001b[1;31m Failed \u001b[0;0m\n",
      " Test 1:\u001b[1;31m Failed \u001b[0;0m\n",
      " Test 2:\u001b[1;31m Failed \u001b[0;0m\n",
      " Test 3:\u001b[1;31m Failed \u001b[0;0m\n",
      " Test 4:\u001b[1;31m Failed \u001b[0;0m\n",
      " Test 5:\u001b[1;31m Failed \u001b[0;0m\n",
      " Test 6:\u001b[1;31m Failed \u001b[0;0m\n"
     ]
    }
   ],
   "source": [
    "# Automated Test - Do not change it\n",
    "points =  test_factorial(factorial)\n",
    "score[\"Q4\"] = points"
   ]
  },
  {
   "cell_type": "markdown",
   "metadata": {},
   "source": [
    " "
   ]
  },
  {
   "cell_type": "markdown",
   "metadata": {},
   "source": [
    "#### Q5: Write a program to find  a nth number in the fibonacci sequence\n"
   ]
  },
  {
   "cell_type": "code",
   "execution_count": 15,
   "metadata": {},
   "outputs": [],
   "source": [
    "def fibonacci(n):\n",
    "    \"\"\" find a nth number in the fibonacci sequence\n",
    "\n",
    "    Args:\n",
    "        n : given number\n",
    "\n",
    "    Returns:\n",
    "        fibo: nth number in a fibonacci sequence\n",
    "\n",
    "    \"\"\"\n",
    "    \n",
    "    # code starts\n",
    "    \n",
    "    pass\n",
    "\n",
    "    # code ends"
   ]
  },
  {
   "cell_type": "markdown",
   "metadata": {},
   "source": [
    "*Case : If n = 6 then the function should return 8*\n"
   ]
  },
  {
   "cell_type": "code",
   "execution_count": 16,
   "metadata": {},
   "outputs": [],
   "source": [
    "# Custom Test - you can test your code here by changing the argument values\n",
    "fibonacci(6)"
   ]
  },
  {
   "cell_type": "code",
   "execution_count": 17,
   "metadata": {},
   "outputs": [
    {
     "name": "stdout",
     "output_type": "stream",
     "text": [
      " Test 0:\u001b[1;31m Failed \u001b[0;0m\n",
      " Test 1:\u001b[1;31m Failed \u001b[0;0m\n",
      " Test 2:\u001b[1;31m Failed \u001b[0;0m\n",
      " Test 3:\u001b[1;31m Failed \u001b[0;0m\n",
      " Test 4:\u001b[1;31m Failed \u001b[0;0m\n",
      " Test 5:\u001b[1;31m Failed \u001b[0;0m\n",
      " Test 6:\u001b[1;31m Failed \u001b[0;0m\n",
      " Test 7:\u001b[1;31m Failed \u001b[0;0m\n",
      " Test 8:\u001b[1;31m Failed \u001b[0;0m\n",
      " Test 9:\u001b[1;31m Failed \u001b[0;0m\n"
     ]
    }
   ],
   "source": [
    "# Automated Test - Do not change it\n",
    "points =  test_fibonacci(fibonacci)\n",
    "score[\"Q5\"] = points"
   ]
  },
  {
   "cell_type": "markdown",
   "metadata": {},
   "source": [
    "## Assignment Ends"
   ]
  },
  {
   "cell_type": "markdown",
   "metadata": {},
   "source": [
    "---"
   ]
  },
  {
   "cell_type": "code",
   "execution_count": 18,
   "metadata": {
    "scrolled": true
   },
   "outputs": [
    {
     "name": "stdout",
     "output_type": "stream",
     "text": [
      "Total Score: \u001b[1;34m5\u001b[0;0m\n",
      "Obtained Socre: \u001b[1;31m 0 \u001b[0;0m\n"
     ]
    }
   ],
   "source": [
    "final_score(score)"
   ]
  },
  {
   "cell_type": "code",
   "execution_count": null,
   "metadata": {},
   "outputs": [],
   "source": [
    "!jupyter-nbconvert --to html 'Day 1 - Assignment.ipynb' --output \"Day 1 - Assignment.html\" "
   ]
  },
  {
   "cell_type": "code",
   "execution_count": null,
   "metadata": {},
   "outputs": [],
   "source": []
  }
 ],
 "metadata": {
  "kernelspec": {
   "display_name": "Python 3",
   "language": "python",
   "name": "python3"
  },
  "language_info": {
   "codemirror_mode": {
    "name": "ipython",
    "version": 3
   },
   "file_extension": ".py",
   "mimetype": "text/x-python",
   "name": "python",
   "nbconvert_exporter": "python",
   "pygments_lexer": "ipython3",
   "version": "3.7.0"
  }
 },
 "nbformat": 4,
 "nbformat_minor": 5
}
