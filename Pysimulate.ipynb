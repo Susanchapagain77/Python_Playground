{
 "cells": [
  {
   "cell_type": "code",
   "execution_count": 3,
   "metadata": {},
   "outputs": [
    {
     "ename": "ModuleNotFoundError",
     "evalue": "No module named 'pygame'",
     "output_type": "error",
     "traceback": [
      "\u001b[0;31m---------------------------------------------------------------------------\u001b[0m",
      "\u001b[0;31mModuleNotFoundError\u001b[0m                       Traceback (most recent call last)",
      "Cell \u001b[0;32mIn[3], line 1\u001b[0m\n\u001b[0;32m----> 1\u001b[0m \u001b[39mimport\u001b[39;00m \u001b[39mpygame\u001b[39;00m\n\u001b[1;32m      3\u001b[0m \u001b[39m# Initialize Pygame\u001b[39;00m\n\u001b[1;32m      4\u001b[0m pygame\u001b[39m.\u001b[39minit()\n",
      "\u001b[0;31mModuleNotFoundError\u001b[0m: No module named 'pygame'"
     ]
    }
   ],
   "source": [
    "import pygame\n",
    "\n",
    "# Initialize Pygame\n",
    "pygame.init()\n",
    "\n",
    "# Set the window size\n",
    "window_size = (600, 400)\n",
    "\n",
    "# Create the window\n",
    "screen = pygame.display.set_mode(window_size)\n",
    "\n",
    "# Set the title of the window\n",
    "pygame.display.set_caption(\"Ball Simulation\")\n",
    "\n",
    "# Set the ball properties\n",
    "ball_color = (255, 255, 255)\n",
    "ball_radius = 20\n",
    "ball_pos = [300, 200]\n",
    "ball_vel = [3, 5]\n",
    "\n",
    "# Set the gravity\n",
    "gravity = 0.1\n",
    "\n",
    "# Set the friction\n",
    "friction = 0.99\n",
    "\n",
    "# Run the simulation\n",
    "running = True\n",
    "while running:\n",
    "    for event in pygame.event.get():\n",
    "        if event.type == pygame.QUIT:\n",
    "            running = False\n",
    "\n",
    "    # Apply gravity to the ball's vertical velocity\n",
    "    ball_vel[1] += gravity\n",
    "\n",
    "    # Apply friction to the ball's horizontal velocity\n",
    "    ball_vel[0] *= friction\n",
    "\n",
    "    # Update the ball's position based on its velocity\n",
    "    ball_pos[0] += ball_vel[0]\n",
    "    ball_pos[1] += ball_vel[1]\n",
    "\n",
    "    # Check for collision with the walls\n",
    "    if ball_pos[0] > window_size[0] - ball_radius or ball_pos[0] < ball_radius:\n",
    "        ball_vel[0] = -ball_vel[0]\n",
    "    if ball_pos[1] > window_size[1] - ball_radius or ball_pos[1] < ball_radius:\n",
    "        ball_vel[1] = -ball_vel[1]\n",
    "\n",
    "    # Clear the screen\n",
    "    screen.fill((0, 0, 0))\n",
    "\n",
    "    # Draw the ball\n",
    "    pygame.draw.circle(screen, ball_color, (int(ball_pos[0]), int(ball_pos[1])), ball_radius)\n",
    "\n",
    "    # Update the display\n",
    "    pygame.display.flip()\n",
    "\n",
    "# Exit Pygame\n",
    "pygame.quit()\n"
   ]
  }
 ],
 "metadata": {
  "kernelspec": {
   "display_name": "Python 3",
   "language": "python",
   "name": "python3"
  },
  "language_info": {
   "codemirror_mode": {
    "name": "ipython",
    "version": 3
   },
   "file_extension": ".py",
   "mimetype": "text/x-python",
   "name": "python",
   "nbconvert_exporter": "python",
   "pygments_lexer": "ipython3",
   "version": "3.10.6"
  },
  "vscode": {
   "interpreter": {
    "hash": "e7370f93d1d0cde622a1f8e1c04877d8463912d04d973331ad4851f04de6915a"
   }
  }
 },
 "nbformat": 4,
 "nbformat_minor": 5
}
