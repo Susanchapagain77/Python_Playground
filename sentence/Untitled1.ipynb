{
 "cells": [
  {
   "cell_type": "code",
   "execution_count": null,
   "metadata": {},
   "outputs": [],
   "source": [
    "Mylist=[]\n",
    "res={}\n",
    "n=int(input(\"enter no of elements in list:\\n\"))\n",
    "if(n%2==1 and n>=3):\n",
    "    for i in range(0,n):\n",
    "        value=int(input())\n",
    "        Mylist.append(value)\n",
    "    for i in Mylist:\n",
    "        res[i]=Mylist.count(i)\n",
    "else:\n",
    "    print(\"Please enter a valid number\")\n",
    "print(Mylist)\n",
    "print(res)\n",
    "key_list = list(res.keys())\n",
    "val_list = list(res.values())\n",
    "print(key_list)\n",
    "print(val_list)\n",
    "position = val_list.index(1)\n",
    "print([position])"
   ]
  },
  {
   "cell_type": "code",
   "execution_count": null,
   "metadata": {},
   "outputs": [],
   "source": []
  }
 ],
 "metadata": {
  "kernelspec": {
   "display_name": "Python 3",
   "language": "python",
   "name": "python3"
  },
  "language_info": {
   "codemirror_mode": {
    "name": "ipython",
    "version": 3
   },
   "file_extension": ".py",
   "mimetype": "text/x-python",
   "name": "python",
   "nbconvert_exporter": "python",
   "pygments_lexer": "ipython3",
   "version": "3.7.0"
  }
 },
 "nbformat": 4,
 "nbformat_minor": 2
}
