{
 "cells": [
  {
   "cell_type": "code",
   "execution_count": null,
   "metadata": {},
   "outputs": [],
   "source": [
    "sentence=input(\"enter a sentence\\n\")\n",
    "res=''\n",
    "vowelll=[]\n",
    "vowell=[\"a\",\"e\",\"i\",\"o\",\"u\"]\n",
    "for ch in range(len(sentence)):\n",
    "    for i in range(len(vowell)):\n",
    "        if sentence[ch]==vowell[i]:\n",
    "            vowelll.append(vowell[i])\n",
    "print(vowelll)"
   ]
  },
  {
   "cell_type": "code",
   "execution_count": null,
   "metadata": {},
   "outputs": [],
   "source": [
    "for j in range(len(sentence)):\n",
    "    if j not in vowell:\n",
    "        res+=res.join(sentence)\n",
    "    print (res)"
   ]
  },
  {
   "cell_type": "code",
   "execution_count": null,
   "metadata": {},
   "outputs": [],
   "source": []
  }
 ],
 "metadata": {
  "kernelspec": {
   "display_name": "Python 3",
   "language": "python",
   "name": "python3"
  },
  "language_info": {
   "codemirror_mode": {
    "name": "ipython",
    "version": 3
   },
   "file_extension": ".py",
   "mimetype": "text/x-python",
   "name": "python",
   "nbconvert_exporter": "python",
   "pygments_lexer": "ipython3",
   "version": "3.7.0"
  }
 },
 "nbformat": 4,
 "nbformat_minor": 2
}
